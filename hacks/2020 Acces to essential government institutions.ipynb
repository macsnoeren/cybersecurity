{
 "cells": [
  {
   "cell_type": "markdown",
   "metadata": {},
   "source": [
    "# 2020 Acces to essential government institutions\n",
    "_Author: Maurice Snoeren, 19-12-2020_\n",
    "\n",
    "In December it became clear. Hackers have gained access to essential governmental institutions of the US. Most probably hackers have already had access for months. And this they have access today. The impact still unknown, but it will be big! Already is said that this hack is a severe danger for the VS government. The real damage is under investigation. The hack is already described as the \"worst-ever hack\" (BBC, 2020). Major goverments have been hit."
   ]
  },
  {
   "cell_type": "markdown",
   "metadata": {},
   "source": [
    "## How it was detected?\n",
    "The cybersecurity company FireEye has been attacked by a \"highly sophisticated threat actor\". Possibly state-sponsered hacking group. Employees noticed the hack and raised the alarm bells. They said that the hackers stole tools used for cybersecurity testing and that the sought information of government customers of the company."
   ]
  },
  {
   "cell_type": "markdown",
   "metadata": {},
   "source": [
    "## What has happened?\n",
    "Sunday 13 December the company SolarWinds has been hacked and the customers were informed to disconnect from its key products. There key product is the Orion platform that is used to monitor networks. Cyber security experts raised the red flag, because the company SolarWinds products are used by many US govenments including the highest tiers of the government. Around 18.000 customers have been affected. Shortly, different government agencies reported being breached. The Departments of Treasury and Commerce were named first, then Homeland Security, the National Institute of Health and even the Los Alamos nuclear weapons lab were said to have been compromised. (BBC 2020).\n",
    "\n",
    "The hackers manipulated the network monitoring software of SolarWinds to enable the attack. This attack is called \"supply chain\"-attack. It takes advantage of routine software pacthes send to the customer systems by SolarWinds. The malware that was delivered by these patches, created a back door giving access to the attackers.\n",
    "\n"
   ]
  },
  {
   "cell_type": "markdown",
   "metadata": {},
   "source": [
    "## What is the possible impact?\n",
    "Hackers have gained access since March. Nine months have been passed before the hack has been detected. So the impact could be very large and most probably will be very large! Investigation and the future will reveal the real impact. The list of victims to this attack will grow in the coming time."
   ]
  },
  {
   "cell_type": "markdown",
   "metadata": {},
   "source": [
    "## Who is the attacker?\n",
    "Always difficult to know who the attacker is in the cyber space. However, different sources suggest that it came from Russia (BBC, 2020). As we know that Russia have offensive cybersecurity programs and do have advanced persistent threat hacking groups. Unfortunately, at this moment this claim is not yet supported by facts. "
   ]
  },
  {
   "cell_type": "markdown",
   "metadata": {},
   "source": [
    "## Sources\n",
    "- BBC, 2020, \"US cyber-attach: US energy department confirms it was hit by Sunburst hack\", https://www.bbc.com/news/world-us-canada-55358332\n",
    "- BBC, 2020, \"US cybersecurity firm FireEye hit by 'state-sponsored' attack\", https://www.bbc.com/news/world-us-canada-55240408\n",
    "- NRC, 2020, \"Schade van pijnlijke en omvangrijke hack is nog niet te overzien\", https://www.nrc.nl/nieuws/2020/12/18/pijnlijke-hack-voor-de-vs-a4024501\n",
    "- BBC, 2020, \"Tech Tent: Hacking the heart of the US government\", https://www.bbc.com/news/technology-55363828\n",
    "- BBC, 2020, \"SolarWinds Orion: More US government agencies hacked\", https://www.bbc.com/news/technology-55318815\n",
    "- The Washington Post, 2020, \"DHS, State and NIH join list of federal agencies — now five — hacked in major Russian cyberespionage campaign\", https://www.washingtonpost.com/national-security/dhs-is-third-federal-agency-hacked-in-major-russian-cyberespionage-campaign/2020/12/14/41f8fc98-3e3c-11eb-8bc0-ae155bee4aff_story.html\n",
    "- The New York Times, 2020, \"Scope of Russian Hack Becomes Clear: Multiple U.S. Agencies Were Hit\", https://www.nytimes.com/2020/12/14/us/politics/russia-hack-nsa-homeland-security-pentagon.html"
   ]
  },
  {
   "cell_type": "code",
   "execution_count": null,
   "metadata": {},
   "outputs": [],
   "source": []
  }
 ],
 "metadata": {
  "kernelspec": {
   "display_name": "Python 3",
   "language": "python",
   "name": "python3"
  },
  "language_info": {
   "codemirror_mode": {
    "name": "ipython",
    "version": 3
   },
   "file_extension": ".py",
   "mimetype": "text/x-python",
   "name": "python",
   "nbconvert_exporter": "python",
   "pygments_lexer": "ipython3",
   "version": "3.8.3"
  }
 },
 "nbformat": 4,
 "nbformat_minor": 4
}
